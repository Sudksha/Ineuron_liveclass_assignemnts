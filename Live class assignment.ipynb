{
 "cells": [
  {
   "cell_type": "markdown",
   "id": "2ec1aea4-47e2-436b-bb1a-425756a7c17f",
   "metadata": {},
   "source": [
    "●\tWAP to accept two numbers from the user and display their sum"
   ]
  },
  {
   "cell_type": "code",
   "execution_count": null,
   "id": "d8a62c9e-570d-4f33-8bd6-0998d6825391",
   "metadata": {},
   "outputs": [
    {
     "name": "stdin",
     "output_type": "stream",
     "text": [
      "enter first number 5\n",
      "enter sec number 6\n"
     ]
    },
    {
     "name": "stdout",
     "output_type": "stream",
     "text": [
      "The sum of 5 and 6 is 11\n"
     ]
    }
   ],
   "source": [
    "num1= int(input(\"enter first number\"))\n",
    "num2=int(input(\"enter sec number\"))\n",
    "sum_num=num1+num2\n",
    "print(\"The sum of {0} and {1} is {2}\".format(num1, num2, sum_num))"
   ]
  },
  {
   "cell_type": "markdown",
   "id": "441fa27a-8366-4f56-b759-2971011f59ec",
   "metadata": {},
   "source": [
    "●\tWAP to accept radius of a Circle from the user and calculate area and circumference"
   ]
  },
  {
   "cell_type": "code",
   "execution_count": null,
   "id": "0f8d0e38-f4ad-4dbc-9a92-3886e42f7ddb",
   "metadata": {},
   "outputs": [
    {
     "name": "stdin",
     "output_type": "stream",
     "text": [
      "Enter the radius of circle 5\n"
     ]
    },
    {
     "name": "stdout",
     "output_type": "stream",
     "text": [
      " The area of circle is 78.53975 and circumference is 31.4159\n"
     ]
    }
   ],
   "source": [
    "\n",
    "rad=int(input(\"Enter the radius of circle\"))\n",
    "pi=3.14159\n",
    "area_circle= pi*(rad*rad)\n",
    "circumference= 2*pi*rad\n",
    "\n",
    "print(\" The area of circle is {0} and circumference is {1}\".format(area_circle,circumference))"
   ]
  },
  {
   "cell_type": "markdown",
   "id": "20ec5090-b587-4243-bde4-ecb2843b979b",
   "metadata": {},
   "source": [
    "●\tWAP to accept roll number , grade and percentage as input from the user and display it back"
   ]
  },
  {
   "cell_type": "code",
   "execution_count": 6,
   "id": "6cb9dc66-2c28-47c8-8be4-528de971416d",
   "metadata": {},
   "outputs": [
    {
     "name": "stdin",
     "output_type": "stream",
     "text": [
      "Eneter the roll number 456789\n",
      "Eneter the grade  1\n",
      "Eneter the percentage  80\n"
     ]
    },
    {
     "name": "stdout",
     "output_type": "stream",
     "text": [
      "The entered rol_num is 456789, grade is 1 and percentage is 80\n"
     ]
    }
   ],
   "source": [
    "rol_num=int(input(\"Eneter the roll number\"))\n",
    "grade=int(input(\"Eneter the grade \"))\n",
    "percentage=int(input(\"Eneter the percentage \"))\n",
    "\n",
    "print(\"The entered rol_num is {0}, grade is {1} and percentage is {2}\".format(rol_num, grade, percentage))"
   ]
  },
  {
   "cell_type": "markdown",
   "id": "355e1ce3-b09e-4ed1-9651-ce6fe869c738",
   "metadata": {},
   "source": [
    "\n",
    "●\tWrite a program that asks the user to enter his/her name and age. Print out a message , displaying the user’s name along with the year in which they will turn 100 years old.\n"
   ]
  },
  {
   "cell_type": "code",
   "execution_count": 10,
   "id": "7ec9d6bc-e6f2-46c8-a098-9e4c2e7c2695",
   "metadata": {},
   "outputs": [
    {
     "name": "stdin",
     "output_type": "stream",
     "text": [
      "Enter your name Sudiksha\n",
      "Enter your age 25\n"
     ]
    },
    {
     "name": "stdout",
     "output_type": "stream",
     "text": [
      "Sudiksha will turn to 100 years in the year of 2097\n"
     ]
    }
   ],
   "source": [
    "name=input(\"Enter your name\")\n",
    "age=int(input(\"Enter your age\"))\n",
    "rem_age=100-age\n",
    "current_year=2022\n",
    "turn100=current_year+rem_age\n",
    "print(\"{0} will turn to 100 years in the year of {1}\". format(name, turn100))\n",
    "      \n",
    "\n"
   ]
  },
  {
   "cell_type": "markdown",
   "id": "ab11f85c-f978-4ac4-957b-86117a057ade",
   "metadata": {},
   "source": [
    "●\tWrite a program that asks the user to input 2 integers and adds them . Accept both the numbers in a single line only"
   ]
  },
  {
   "cell_type": "code",
   "execution_count": 18,
   "id": "e7ffe5ca-c7b5-44fc-9cce-6cccf4d3b117",
   "metadata": {},
   "outputs": [
    {
     "name": "stdin",
     "output_type": "stream",
     "text": [
      "Enter 2 numbers 5 6\n"
     ]
    },
    {
     "name": "stdout",
     "output_type": "stream",
     "text": [
      "The sum of 5 and 6 is 11\n"
     ]
    }
   ],
   "source": [
    "num1, num2=map(int,input(\"Enter 2 numbers\").split())\n",
    "sum_num=num1+num2\n",
    "print(\"The sum of {0} and {1} is {2}\".format(num1, num2, sum_num))\n"
   ]
  },
  {
   "cell_type": "markdown",
   "id": "1da70206-1f04-49e0-aea8-fd20a8bc2f68",
   "metadata": {},
   "source": [
    "●\tWrite a Python program which accepts the user's first and last name and print them in reverse order with a space between them.\n"
   ]
  },
  {
   "cell_type": "code",
   "execution_count": 19,
   "id": "60f34ebe-8311-428b-88d1-6b2590c42d46",
   "metadata": {},
   "outputs": [
    {
     "name": "stdin",
     "output_type": "stream",
     "text": [
      "Enter your first name sudiksha\n",
      "Enter your last name patil\n"
     ]
    },
    {
     "name": "stdout",
     "output_type": "stream",
     "text": [
      "ahskidus litap\n"
     ]
    }
   ],
   "source": [
    "First_name=input(\"Enter your first name\")\n",
    "last_name = input(\"Enter your last name\")\n",
    "print(First_name[::-1] + \" \" + last_name[::-1])"
   ]
  },
  {
   "cell_type": "markdown",
   "id": "9c3faa3a-35ea-41b7-ace2-85127d183609",
   "metadata": {},
   "source": [
    "\n",
    "●\tWAP to accept an integer from the user and check whether it is an even or odd \n"
   ]
  },
  {
   "cell_type": "code",
   "execution_count": 21,
   "id": "10776144-4dd6-46f2-bd79-f295c16659b0",
   "metadata": {},
   "outputs": [
    {
     "name": "stdin",
     "output_type": "stream",
     "text": [
      "Enter the number 7\n"
     ]
    },
    {
     "name": "stdout",
     "output_type": "stream",
     "text": [
      " 7 is odd number\n"
     ]
    }
   ],
   "source": [
    "num= int(input(\"Enter the number\"))\n",
    "if num%2==0:\n",
    "    print(\"{} is even number\".format(num))\n",
    "else:\n",
    "    print(\" {} is odd number\".format(num))"
   ]
  },
  {
   "cell_type": "markdown",
   "id": "22ba3d6e-0c50-4dd0-9526-543a4538b34e",
   "metadata": {},
   "source": [
    "●\tWAP to accept a character from the user and check whether it is a capital letter or small letter. Assume user will input only alphabets\n"
   ]
  },
  {
   "cell_type": "code",
   "execution_count": 23,
   "id": "4c490f71-32d4-4856-9535-cebaafd9677c",
   "metadata": {},
   "outputs": [
    {
     "name": "stdin",
     "output_type": "stream",
     "text": [
      "Enter the character J\n"
     ]
    },
    {
     "name": "stdout",
     "output_type": "stream",
     "text": [
      "upper\n"
     ]
    }
   ],
   "source": [
    "character= input(\"Enter the character\")\n",
    "if character.isupper():\n",
    "    print(\"upper\")\n",
    "else:\n",
    "    print(\"lower\")"
   ]
  },
  {
   "cell_type": "markdown",
   "id": "59df473d-15f4-4af0-a6b9-0adccd6bda72",
   "metadata": {},
   "source": [
    "●\tWAP to accept a character from the user and check whether it is a capital letter or small letter or a digit or some special symbol"
   ]
  },
  {
   "cell_type": "code",
   "execution_count": 29,
   "id": "f982b71a-30a6-4fe1-a67f-842cb31a6d3f",
   "metadata": {},
   "outputs": [
    {
     "name": "stdin",
     "output_type": "stream",
     "text": [
      "Enter the character #\n"
     ]
    },
    {
     "name": "stdout",
     "output_type": "stream",
     "text": [
      "Special symbol\n"
     ]
    }
   ],
   "source": [
    "character= input(\"Enter the character\")\n",
    "if character.isupper():\n",
    "    print(\"upper\")\n",
    "elif character.islower():\n",
    "    print(\"lower\")\n",
    "\n",
    "elif character>='0':\n",
    "    print(\"digital\")\n",
    "    \n",
    "else:\n",
    "    print(\"Special symbol\")\n",
    "    \n"
   ]
  },
  {
   "cell_type": "markdown",
   "id": "6d6ecdd8-a395-4729-8b40-13cecc9922aa",
   "metadata": {},
   "source": [
    "●\tWAP to accept 3 integers from the user and without using any logical operator and cascading of relational operators , find out the greatest number amongst them"
   ]
  },
  {
   "cell_type": "code",
   "execution_count": 33,
   "id": "4e10760a-fcf5-410c-b2af-d0548da3de60",
   "metadata": {},
   "outputs": [
    {
     "name": "stdin",
     "output_type": "stream",
     "text": [
      "Enter first no 8\n",
      "Enter sec no 5\n",
      "Enter thrird no 2\n"
     ]
    },
    {
     "name": "stdout",
     "output_type": "stream",
     "text": [
      "8 is greates number\n"
     ]
    }
   ],
   "source": [
    "a = int(input(\"Enter first no\"))\n",
    "b = int(input(\"Enter sec no\"))\n",
    "c = int(input(\"Enter thrird no\"))\n",
    "if a>b:\n",
    "    if a>c:\n",
    "        print(\"{} is greates number\".format(a))\n",
    "elif b>a:\n",
    "    if b>c:\n",
    "        print(\"{} is greatest number\".format(b))\n",
    "else:\n",
    "    print(\"{} is greatest number\".format(c))"
   ]
  },
  {
   "cell_type": "markdown",
   "id": "7d5d829c-690f-4a26-85ac-2ac0307df28f",
   "metadata": {},
   "source": [
    "●\tWrite a program to accept a string from the user and display it vertically but don’t display the vowels in it."
   ]
  },
  {
   "cell_type": "code",
   "execution_count": 34,
   "id": "dd84171c-6fb1-401c-9a23-b81e12314e4f",
   "metadata": {},
   "outputs": [
    {
     "name": "stdin",
     "output_type": "stream",
     "text": [
      "Enter string Sudiksha\n"
     ]
    },
    {
     "name": "stdout",
     "output_type": "stream",
     "text": [
      "S\n",
      "d\n",
      "k\n",
      "s\n",
      "h\n"
     ]
    }
   ],
   "source": [
    "#Accept string from user and print each character in verticlly but omit the ovels\n",
    "string=input(\"Enter string\")\n",
    "for char in string:\n",
    "    if char.lower() not in 'aeiou':\n",
    "        print(char)"
   ]
  },
  {
   "cell_type": "markdown",
   "id": "3ea5051f-1af1-4d86-94c2-7c4ede6f93e8",
   "metadata": {},
   "source": [
    "●\tWrite a program using a for loop to accept a string from the user and display it vertically but don’t display the vowels in it."
   ]
  },
  {
   "cell_type": "code",
   "execution_count": 1,
   "id": "be57f240-345a-4b3a-a054-d9487ce6e3e7",
   "metadata": {},
   "outputs": [
    {
     "name": "stdin",
     "output_type": "stream",
     "text": [
      "Enter string Sudiksha\n"
     ]
    },
    {
     "name": "stdout",
     "output_type": "stream",
     "text": [
      "S\n",
      "d\n",
      "k\n",
      "s\n",
      "h\n"
     ]
    }
   ],
   "source": [
    "#Accept string from user and print each character in verticlly but omit the ovels\n",
    "string=input(\"Enter string\")\n",
    "for char in string:\n",
    "    if char.lower() not in 'aeiou':\n",
    "        print(char)"
   ]
  },
  {
   "cell_type": "markdown",
   "id": "804c3ede-fb52-4914-83d7-a58bde601574",
   "metadata": {},
   "source": [
    "●\tWrite a program to accept an integer from the user and display the sum of all the numbers from 1 to that number."
   ]
  },
  {
   "cell_type": "code",
   "execution_count": 2,
   "id": "6828521a-f54e-4d4e-8c48-de9786f0b65f",
   "metadata": {},
   "outputs": [
    {
     "name": "stdin",
     "output_type": "stream",
     "text": [
      "Enter the number 5\n"
     ]
    },
    {
     "name": "stdout",
     "output_type": "stream",
     "text": [
      "Sum of numbers is 15\n"
     ]
    }
   ],
   "source": [
    "num= int(input(\"Enter the number\"))\n",
    "j=0\n",
    "for i in range (1, num+1):\n",
    "    j=j+i\n",
    "print(\"Sum of numbers is\", j)\n",
    "    "
   ]
  },
  {
   "cell_type": "markdown",
   "id": "524c998b-a50b-45d0-ae2b-f6279eab7336",
   "metadata": {},
   "source": [
    "●\tWrite a program to accept an integer from the user and calculate its factorial\n"
   ]
  },
  {
   "cell_type": "code",
   "execution_count": 5,
   "id": "9811a5d3-52b8-48eb-8f92-f585d661405a",
   "metadata": {},
   "outputs": [
    {
     "name": "stdin",
     "output_type": "stream",
     "text": [
      "Enter the number 5\n"
     ]
    },
    {
     "name": "stdout",
     "output_type": "stream",
     "text": [
      "120\n"
     ]
    }
   ],
   "source": [
    "def factorial(num):\n",
    "    if num ==0 or num==1:\n",
    "        return 1\n",
    "    else:\n",
    "        return num*factorial(num-1)\n",
    "\n",
    "number= int(input(\"Enter the number\"))\n",
    "print(factorial(number))\n",
    "    "
   ]
  },
  {
   "cell_type": "markdown",
   "id": "bbb05b5e-d973-403f-b9aa-665c24c4ce73",
   "metadata": {},
   "source": [
    "●\tWrite a program to print the following pattern "
   ]
  },
  {
   "cell_type": "code",
   "execution_count": 10,
   "id": "5311a478-c118-4678-b58a-48ad54685f77",
   "metadata": {},
   "outputs": [
    {
     "name": "stdout",
     "output_type": "stream",
     "text": [
      "***\n",
      "***\n",
      "***\n"
     ]
    }
   ],
   "source": [
    "print(3*\"*\")\n",
    "print(3*\"*\")\n",
    "print(3*\"*\")"
   ]
  },
  {
   "cell_type": "markdown",
   "id": "5265c50c-ed93-4955-84b3-aa33767c10ff",
   "metadata": {},
   "source": [
    "●\tWrite a program to print the following pattern \n"
   ]
  },
  {
   "cell_type": "code",
   "execution_count": 39,
   "id": "fbd176c7-2ac0-4bf0-b7ef-f93c03f5242e",
   "metadata": {},
   "outputs": [
    {
     "name": "stdout",
     "output_type": "stream",
     "text": [
      "*  \n",
      "**  \n",
      "***  \n",
      "****  \n"
     ]
    }
   ],
   "source": [
    "for i in range(1,5):\n",
    "    print(i*\"*\", end=\" \")\n",
    "    print(' ')"
   ]
  },
  {
   "cell_type": "code",
   "execution_count": 40,
   "id": "05e7c079-2935-4101-9604-279062f1a9fd",
   "metadata": {},
   "outputs": [
    {
     "name": "stdout",
     "output_type": "stream",
     "text": [
      "****  \n",
      "***  \n",
      "**  \n",
      "*  \n"
     ]
    }
   ],
   "source": [
    "\n",
    "for i in range(4, 0, -1):\n",
    "    print(i*\"*\", end=' ')\n",
    "    print(\" \")"
   ]
  },
  {
   "cell_type": "markdown",
   "id": "73f65f92-60bb-446b-a70d-79eefd6cef3d",
   "metadata": {},
   "source": [
    "●\tWAP to accept a year from the user and check whether it is a leap year or not.\n",
    "An year is a leap year if:\n",
    "It is exactly divisible by 4 and at the same time not\n",
    "divisible by 100\n",
    "OR\n",
    "It is divisible by 400\n",
    "For example:\n",
    "2017 is not a leap year\n",
    "2012 is a leap year\n",
    "1900 is a not leap year\n",
    "2000 is a leap year\n"
   ]
  },
  {
   "cell_type": "code",
   "execution_count": 32,
   "id": "27414038-9526-4f14-b51d-a9a7c11c09c6",
   "metadata": {},
   "outputs": [
    {
     "name": "stdin",
     "output_type": "stream",
     "text": [
      "Enter the number 2000\n"
     ]
    },
    {
     "name": "stdout",
     "output_type": "stream",
     "text": [
      "entered year is leap year\n"
     ]
    }
   ],
   "source": [
    "year=int(input(\"Enter the number\"))\n",
    "if (year%4==0 and year%100!=0):\n",
    "    print(\"entered year is leap year\")\n",
    "elif (year%400==0):\n",
    "    print(\"entered year is leap year\")\n",
    "else:\n",
    "    print(\"Entered year is not leap year\")\n"
   ]
  },
  {
   "cell_type": "markdown",
   "id": "c176d90c-7c23-4665-8e46-72b3bd6fd1a1",
   "metadata": {},
   "source": [
    "●\tWrite a program to accept an integer from the user and display all the numbers from 1 to that number. Repeat the process until the user enters 0."
   ]
  },
  {
   "cell_type": "code",
   "execution_count": 55,
   "id": "54817e8d-50a6-4625-92bc-c087ba0eee47",
   "metadata": {},
   "outputs": [
    {
     "name": "stdin",
     "output_type": "stream",
     "text": [
      "Enter the number 5\n"
     ]
    },
    {
     "name": "stdout",
     "output_type": "stream",
     "text": [
      "1\n",
      "2\n",
      "3\n",
      "4\n",
      "5\n"
     ]
    },
    {
     "name": "stdin",
     "output_type": "stream",
     "text": [
      "Enter the number 6\n"
     ]
    },
    {
     "name": "stdout",
     "output_type": "stream",
     "text": [
      "1\n",
      "2\n",
      "3\n",
      "4\n",
      "5\n",
      "6\n"
     ]
    },
    {
     "name": "stdin",
     "output_type": "stream",
     "text": [
      "Enter the number 0\n"
     ]
    },
    {
     "name": "stdout",
     "output_type": "stream",
     "text": [
      "None\n"
     ]
    }
   ],
   "source": [
    "def repeat_nums(n):\n",
    "    while n>0:\n",
    "        for i in range(1, n+1):\n",
    "            print(i)\n",
    "        num=int(input(\"Enter the number\"))\n",
    "        repeat_nums(num)\n",
    "        return\n",
    "        \n",
    "m=int(input(\"Enter the number\"))\n",
    "print(repeat_nums(m))"
   ]
  },
  {
   "cell_type": "code",
   "execution_count": null,
   "id": "6f066693-1374-48f4-b1fc-6e5165fc20fd",
   "metadata": {},
   "outputs": [],
   "source": [
    "\n",
    "\n",
    "●\tYou have to develop a number guessing game. Following are the steps needed:\n",
    "●\tAt first , the program will generate a random integer secretly.\n",
    "\n",
    "●\tNow it will ask the user to guess that number .\n",
    "\n",
    "●\tIf the user guessed it correctly then the program prints “Congratulations! You guessed it right” .\n",
    "\n",
    "●\tBut if the number guessed by the user is larger than the secret number then program should print “Number too large” and , if the number guessed by the user is smaller than the secret number then the program should print “Number too small” \n",
    "\n",
    "●\tThis should continue until the user guesses the number correctly or quits .\n",
    "\n",
    "●\tIf the user wants to quit in between he will have to type 0 or negative number\n",
    "\n"
   ]
  },
  {
   "cell_type": "code",
   "execution_count": 71,
   "id": "fcbd3a28-1ac6-4799-9b2d-831c38cfc81c",
   "metadata": {},
   "outputs": [
    {
     "name": "stdout",
     "output_type": "stream",
     "text": [
      "59\n"
     ]
    },
    {
     "name": "stdin",
     "output_type": "stream",
     "text": [
      "Guess the number between 0 to 100 59\n"
     ]
    },
    {
     "name": "stdout",
     "output_type": "stream",
     "text": [
      "Cngratulations! You guessed it right\n"
     ]
    }
   ],
   "source": [
    "\n",
    "def guess_num(num, secret_num):\n",
    "    if num==secret_num:\n",
    "        print(\"Congratulations! You guessed it right\")\n",
    "    else:\n",
    "        \n",
    "        num=int(input(\"sorry your guess is wrong, please guess the number again\"))\n",
    "        \n",
    "        return guess_num(num, secret_num)\n",
    "\n",
    "import random\n",
    "\n",
    "secret_num=random.randint(0,100)\n",
    "\n",
    "num=int(input(\"Guess the number between 0 to 100\"))\n",
    "guess_num(num, secret_num)"
   ]
  },
  {
   "cell_type": "code",
   "execution_count": null,
   "id": "895a1db9-8c03-4055-831f-5489f1297d4f",
   "metadata": {},
   "outputs": [],
   "source": []
  }
 ],
 "metadata": {
  "kernelspec": {
   "display_name": "Python 3 (ipykernel)",
   "language": "python",
   "name": "python3"
  },
  "language_info": {
   "codemirror_mode": {
    "name": "ipython",
    "version": 3
   },
   "file_extension": ".py",
   "mimetype": "text/x-python",
   "name": "python",
   "nbconvert_exporter": "python",
   "pygments_lexer": "ipython3",
   "version": "3.10.6"
  }
 },
 "nbformat": 4,
 "nbformat_minor": 5
}
